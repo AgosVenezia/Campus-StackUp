{
 "cells": [
  {
   "cell_type": "markdown",
   "metadata": {},
   "source": [
    "# Local Embeddings\n",
    "In this Python notebook, we will try running embedding models locally and compare their performances."
   ]
  },
  {
   "cell_type": "markdown",
   "metadata": {},
   "source": [
    "## Using Llama-Index\n",
    "We'll be making use of LlamaIndex to help us download the embedding models from Hugging Face."
   ]
  },
  {
   "cell_type": "code",
   "execution_count": 1,
   "metadata": {},
   "outputs": [
    {
     "name": "stdout",
     "output_type": "stream",
     "text": [
      "Requirement already satisfied: llama-index-llms-huggingface in f:\\descargas\\cursos\\vsc_proyectos\\envs\\comision_22819\\lib\\site-packages (0.2.0)\n",
      "Requirement already satisfied: huggingface-hub<0.24.0,>=0.23.0 in f:\\descargas\\cursos\\vsc_proyectos\\envs\\comision_22819\\lib\\site-packages (from llama-index-llms-huggingface) (0.23.0)\n",
      "Requirement already satisfied: llama-index-core<0.11.0,>=0.10.1 in f:\\descargas\\cursos\\vsc_proyectos\\envs\\comision_22819\\lib\\site-packages (from llama-index-llms-huggingface) (0.10.36)\n",
      "Requirement already satisfied: text-generation<0.8.0,>=0.7.0 in f:\\descargas\\cursos\\vsc_proyectos\\envs\\comision_22819\\lib\\site-packages (from llama-index-llms-huggingface) (0.7.0)\n",
      "Requirement already satisfied: torch<3.0.0,>=2.1.2 in f:\\descargas\\cursos\\vsc_proyectos\\envs\\comision_22819\\lib\\site-packages (from llama-index-llms-huggingface) (2.3.0)\n",
      "Requirement already satisfied: transformers[torch]<5.0.0,>=4.37.0 in f:\\descargas\\cursos\\vsc_proyectos\\envs\\comision_22819\\lib\\site-packages (from llama-index-llms-huggingface) (4.40.2)\n",
      "Requirement already satisfied: filelock in f:\\descargas\\cursos\\vsc_proyectos\\envs\\comision_22819\\lib\\site-packages (from huggingface-hub<0.24.0,>=0.23.0->llama-index-llms-huggingface) (3.14.0)\n",
      "Requirement already satisfied: fsspec>=2023.5.0 in f:\\descargas\\cursos\\vsc_proyectos\\envs\\comision_22819\\lib\\site-packages (from huggingface-hub<0.24.0,>=0.23.0->llama-index-llms-huggingface) (2024.3.1)\n",
      "Requirement already satisfied: packaging>=20.9 in f:\\descargas\\cursos\\vsc_proyectos\\envs\\comision_22819\\lib\\site-packages (from huggingface-hub<0.24.0,>=0.23.0->llama-index-llms-huggingface) (24.0)\n",
      "Requirement already satisfied: pyyaml>=5.1 in f:\\descargas\\cursos\\vsc_proyectos\\envs\\comision_22819\\lib\\site-packages (from huggingface-hub<0.24.0,>=0.23.0->llama-index-llms-huggingface) (6.0.1)\n",
      "Requirement already satisfied: requests in f:\\descargas\\cursos\\vsc_proyectos\\envs\\comision_22819\\lib\\site-packages (from huggingface-hub<0.24.0,>=0.23.0->llama-index-llms-huggingface) (2.31.0)\n",
      "Requirement already satisfied: tqdm>=4.42.1 in f:\\descargas\\cursos\\vsc_proyectos\\envs\\comision_22819\\lib\\site-packages (from huggingface-hub<0.24.0,>=0.23.0->llama-index-llms-huggingface) (4.66.4)\n",
      "Requirement already satisfied: typing-extensions>=3.7.4.3 in f:\\descargas\\cursos\\vsc_proyectos\\envs\\comision_22819\\lib\\site-packages (from huggingface-hub<0.24.0,>=0.23.0->llama-index-llms-huggingface) (4.11.0)\n",
      "Requirement already satisfied: SQLAlchemy[asyncio]>=1.4.49 in f:\\descargas\\cursos\\vsc_proyectos\\envs\\comision_22819\\lib\\site-packages (from llama-index-core<0.11.0,>=0.10.1->llama-index-llms-huggingface) (2.0.30)\n",
      "Requirement already satisfied: aiohttp<4.0.0,>=3.8.6 in f:\\descargas\\cursos\\vsc_proyectos\\envs\\comision_22819\\lib\\site-packages (from llama-index-core<0.11.0,>=0.10.1->llama-index-llms-huggingface) (3.9.5)\n",
      "Requirement already satisfied: dataclasses-json in f:\\descargas\\cursos\\vsc_proyectos\\envs\\comision_22819\\lib\\site-packages (from llama-index-core<0.11.0,>=0.10.1->llama-index-llms-huggingface) (0.6.6)\n",
      "Requirement already satisfied: deprecated>=1.2.9.3 in f:\\descargas\\cursos\\vsc_proyectos\\envs\\comision_22819\\lib\\site-packages (from llama-index-core<0.11.0,>=0.10.1->llama-index-llms-huggingface) (1.2.14)\n",
      "Requirement already satisfied: dirtyjson<2.0.0,>=1.0.8 in f:\\descargas\\cursos\\vsc_proyectos\\envs\\comision_22819\\lib\\site-packages (from llama-index-core<0.11.0,>=0.10.1->llama-index-llms-huggingface) (1.0.8)\n",
      "Requirement already satisfied: httpx in f:\\descargas\\cursos\\vsc_proyectos\\envs\\comision_22819\\lib\\site-packages (from llama-index-core<0.11.0,>=0.10.1->llama-index-llms-huggingface) (0.27.0)\n",
      "Requirement already satisfied: llamaindex-py-client<0.2.0,>=0.1.18 in f:\\descargas\\cursos\\vsc_proyectos\\envs\\comision_22819\\lib\\site-packages (from llama-index-core<0.11.0,>=0.10.1->llama-index-llms-huggingface) (0.1.19)\n",
      "Requirement already satisfied: nest-asyncio<2.0.0,>=1.5.8 in f:\\descargas\\cursos\\vsc_proyectos\\envs\\comision_22819\\lib\\site-packages (from llama-index-core<0.11.0,>=0.10.1->llama-index-llms-huggingface) (1.6.0)\n",
      "Requirement already satisfied: networkx>=3.0 in f:\\descargas\\cursos\\vsc_proyectos\\envs\\comision_22819\\lib\\site-packages (from llama-index-core<0.11.0,>=0.10.1->llama-index-llms-huggingface) (3.3)\n",
      "Requirement already satisfied: nltk<4.0.0,>=3.8.1 in f:\\descargas\\cursos\\vsc_proyectos\\envs\\comision_22819\\lib\\site-packages (from llama-index-core<0.11.0,>=0.10.1->llama-index-llms-huggingface) (3.8.1)\n",
      "Requirement already satisfied: numpy in f:\\descargas\\cursos\\vsc_proyectos\\envs\\comision_22819\\lib\\site-packages (from llama-index-core<0.11.0,>=0.10.1->llama-index-llms-huggingface) (1.26.4)\n",
      "Requirement already satisfied: openai>=1.1.0 in f:\\descargas\\cursos\\vsc_proyectos\\envs\\comision_22819\\lib\\site-packages (from llama-index-core<0.11.0,>=0.10.1->llama-index-llms-huggingface) (1.28.1)\n",
      "Requirement already satisfied: pandas in f:\\descargas\\cursos\\vsc_proyectos\\envs\\comision_22819\\lib\\site-packages (from llama-index-core<0.11.0,>=0.10.1->llama-index-llms-huggingface) (2.2.2)\n",
      "Requirement already satisfied: pillow>=9.0.0 in f:\\descargas\\cursos\\vsc_proyectos\\envs\\comision_22819\\lib\\site-packages (from llama-index-core<0.11.0,>=0.10.1->llama-index-llms-huggingface) (9.3.0)\n",
      "Requirement already satisfied: tenacity<9.0.0,>=8.2.0 in f:\\descargas\\cursos\\vsc_proyectos\\envs\\comision_22819\\lib\\site-packages (from llama-index-core<0.11.0,>=0.10.1->llama-index-llms-huggingface) (8.3.0)\n",
      "Requirement already satisfied: tiktoken>=0.3.3 in f:\\descargas\\cursos\\vsc_proyectos\\envs\\comision_22819\\lib\\site-packages (from llama-index-core<0.11.0,>=0.10.1->llama-index-llms-huggingface) (0.6.0)\n",
      "Requirement already satisfied: typing-inspect>=0.8.0 in f:\\descargas\\cursos\\vsc_proyectos\\envs\\comision_22819\\lib\\site-packages (from llama-index-core<0.11.0,>=0.10.1->llama-index-llms-huggingface) (0.9.0)\n",
      "Requirement already satisfied: wrapt in f:\\descargas\\cursos\\vsc_proyectos\\envs\\comision_22819\\lib\\site-packages (from llama-index-core<0.11.0,>=0.10.1->llama-index-llms-huggingface) (1.16.0)\n",
      "Requirement already satisfied: pydantic<3,>2 in f:\\descargas\\cursos\\vsc_proyectos\\envs\\comision_22819\\lib\\site-packages (from text-generation<0.8.0,>=0.7.0->llama-index-llms-huggingface) (2.7.1)\n",
      "Requirement already satisfied: sympy in f:\\descargas\\cursos\\vsc_proyectos\\envs\\comision_22819\\lib\\site-packages (from torch<3.0.0,>=2.1.2->llama-index-llms-huggingface) (1.12)\n",
      "Requirement already satisfied: jinja2 in f:\\descargas\\cursos\\vsc_proyectos\\envs\\comision_22819\\lib\\site-packages (from torch<3.0.0,>=2.1.2->llama-index-llms-huggingface) (3.1.2)\n",
      "Requirement already satisfied: mkl<=2021.4.0,>=2021.1.1 in f:\\descargas\\cursos\\vsc_proyectos\\envs\\comision_22819\\lib\\site-packages (from torch<3.0.0,>=2.1.2->llama-index-llms-huggingface) (2021.4.0)\n",
      "Requirement already satisfied: regex!=2019.12.17 in f:\\descargas\\cursos\\vsc_proyectos\\envs\\comision_22819\\lib\\site-packages (from transformers[torch]<5.0.0,>=4.37.0->llama-index-llms-huggingface) (2024.5.10)\n",
      "Requirement already satisfied: tokenizers<0.20,>=0.19 in f:\\descargas\\cursos\\vsc_proyectos\\envs\\comision_22819\\lib\\site-packages (from transformers[torch]<5.0.0,>=4.37.0->llama-index-llms-huggingface) (0.19.1)\n",
      "Requirement already satisfied: safetensors>=0.4.1 in f:\\descargas\\cursos\\vsc_proyectos\\envs\\comision_22819\\lib\\site-packages (from transformers[torch]<5.0.0,>=4.37.0->llama-index-llms-huggingface) (0.4.3)\n",
      "Requirement already satisfied: accelerate>=0.21.0 in f:\\descargas\\cursos\\vsc_proyectos\\envs\\comision_22819\\lib\\site-packages (from transformers[torch]<5.0.0,>=4.37.0->llama-index-llms-huggingface) (0.30.1)\n",
      "Requirement already satisfied: psutil in f:\\descargas\\cursos\\vsc_proyectos\\envs\\comision_22819\\lib\\site-packages (from accelerate>=0.21.0->transformers[torch]<5.0.0,>=4.37.0->llama-index-llms-huggingface) (5.9.8)\n",
      "Requirement already satisfied: aiosignal>=1.1.2 in f:\\descargas\\cursos\\vsc_proyectos\\envs\\comision_22819\\lib\\site-packages (from aiohttp<4.0.0,>=3.8.6->llama-index-core<0.11.0,>=0.10.1->llama-index-llms-huggingface) (1.3.1)\n",
      "Requirement already satisfied: attrs>=17.3.0 in f:\\descargas\\cursos\\vsc_proyectos\\envs\\comision_22819\\lib\\site-packages (from aiohttp<4.0.0,>=3.8.6->llama-index-core<0.11.0,>=0.10.1->llama-index-llms-huggingface) (23.2.0)\n",
      "Requirement already satisfied: frozenlist>=1.1.1 in f:\\descargas\\cursos\\vsc_proyectos\\envs\\comision_22819\\lib\\site-packages (from aiohttp<4.0.0,>=3.8.6->llama-index-core<0.11.0,>=0.10.1->llama-index-llms-huggingface) (1.4.1)\n",
      "Requirement already satisfied: multidict<7.0,>=4.5 in f:\\descargas\\cursos\\vsc_proyectos\\envs\\comision_22819\\lib\\site-packages (from aiohttp<4.0.0,>=3.8.6->llama-index-core<0.11.0,>=0.10.1->llama-index-llms-huggingface) (6.0.5)\n",
      "Requirement already satisfied: yarl<2.0,>=1.0 in f:\\descargas\\cursos\\vsc_proyectos\\envs\\comision_22819\\lib\\site-packages (from aiohttp<4.0.0,>=3.8.6->llama-index-core<0.11.0,>=0.10.1->llama-index-llms-huggingface) (1.9.4)\n",
      "Requirement already satisfied: anyio in f:\\descargas\\cursos\\vsc_proyectos\\envs\\comision_22819\\lib\\site-packages (from httpx->llama-index-core<0.11.0,>=0.10.1->llama-index-llms-huggingface) (4.3.0)\n",
      "Requirement already satisfied: certifi in f:\\descargas\\cursos\\vsc_proyectos\\envs\\comision_22819\\lib\\site-packages (from httpx->llama-index-core<0.11.0,>=0.10.1->llama-index-llms-huggingface) (2022.12.7)\n",
      "Requirement already satisfied: httpcore==1.* in f:\\descargas\\cursos\\vsc_proyectos\\envs\\comision_22819\\lib\\site-packages (from httpx->llama-index-core<0.11.0,>=0.10.1->llama-index-llms-huggingface) (1.0.5)\n",
      "Requirement already satisfied: idna in f:\\descargas\\cursos\\vsc_proyectos\\envs\\comision_22819\\lib\\site-packages (from httpx->llama-index-core<0.11.0,>=0.10.1->llama-index-llms-huggingface) (3.4)\n",
      "Requirement already satisfied: sniffio in f:\\descargas\\cursos\\vsc_proyectos\\envs\\comision_22819\\lib\\site-packages (from httpx->llama-index-core<0.11.0,>=0.10.1->llama-index-llms-huggingface) (1.3.1)\n",
      "Requirement already satisfied: h11<0.15,>=0.13 in f:\\descargas\\cursos\\vsc_proyectos\\envs\\comision_22819\\lib\\site-packages (from httpcore==1.*->httpx->llama-index-core<0.11.0,>=0.10.1->llama-index-llms-huggingface) (0.14.0)\n",
      "Requirement already satisfied: intel-openmp==2021.* in f:\\descargas\\cursos\\vsc_proyectos\\envs\\comision_22819\\lib\\site-packages (from mkl<=2021.4.0,>=2021.1.1->torch<3.0.0,>=2.1.2->llama-index-llms-huggingface) (2021.4.0)\n",
      "Requirement already satisfied: tbb==2021.* in f:\\descargas\\cursos\\vsc_proyectos\\envs\\comision_22819\\lib\\site-packages (from mkl<=2021.4.0,>=2021.1.1->torch<3.0.0,>=2.1.2->llama-index-llms-huggingface) (2021.12.0)\n",
      "Requirement already satisfied: click in f:\\descargas\\cursos\\vsc_proyectos\\envs\\comision_22819\\lib\\site-packages (from nltk<4.0.0,>=3.8.1->llama-index-core<0.11.0,>=0.10.1->llama-index-llms-huggingface) (8.1.7)\n",
      "Requirement already satisfied: joblib in f:\\descargas\\cursos\\vsc_proyectos\\envs\\comision_22819\\lib\\site-packages (from nltk<4.0.0,>=3.8.1->llama-index-core<0.11.0,>=0.10.1->llama-index-llms-huggingface) (1.4.2)\n",
      "Requirement already satisfied: distro<2,>=1.7.0 in f:\\descargas\\cursos\\vsc_proyectos\\envs\\comision_22819\\lib\\site-packages (from openai>=1.1.0->llama-index-core<0.11.0,>=0.10.1->llama-index-llms-huggingface) (1.9.0)\n",
      "Requirement already satisfied: annotated-types>=0.4.0 in f:\\descargas\\cursos\\vsc_proyectos\\envs\\comision_22819\\lib\\site-packages (from pydantic<3,>2->text-generation<0.8.0,>=0.7.0->llama-index-llms-huggingface) (0.6.0)\n",
      "Requirement already satisfied: pydantic-core==2.18.2 in f:\\descargas\\cursos\\vsc_proyectos\\envs\\comision_22819\\lib\\site-packages (from pydantic<3,>2->text-generation<0.8.0,>=0.7.0->llama-index-llms-huggingface) (2.18.2)\n",
      "Requirement already satisfied: charset-normalizer<4,>=2 in f:\\descargas\\cursos\\vsc_proyectos\\envs\\comision_22819\\lib\\site-packages (from requests->huggingface-hub<0.24.0,>=0.23.0->llama-index-llms-huggingface) (3.3.2)\n",
      "Requirement already satisfied: urllib3<3,>=1.21.1 in f:\\descargas\\cursos\\vsc_proyectos\\envs\\comision_22819\\lib\\site-packages (from requests->huggingface-hub<0.24.0,>=0.23.0->llama-index-llms-huggingface) (1.26.14)\n",
      "Requirement already satisfied: greenlet!=0.4.17 in f:\\descargas\\cursos\\vsc_proyectos\\envs\\comision_22819\\lib\\site-packages (from SQLAlchemy[asyncio]>=1.4.49->llama-index-core<0.11.0,>=0.10.1->llama-index-llms-huggingface) (3.0.3)\n",
      "Requirement already satisfied: colorama in f:\\descargas\\cursos\\vsc_proyectos\\envs\\comision_22819\\lib\\site-packages (from tqdm>=4.42.1->huggingface-hub<0.24.0,>=0.23.0->llama-index-llms-huggingface) (0.4.6)\n",
      "Requirement already satisfied: mypy-extensions>=0.3.0 in f:\\descargas\\cursos\\vsc_proyectos\\envs\\comision_22819\\lib\\site-packages (from typing-inspect>=0.8.0->llama-index-core<0.11.0,>=0.10.1->llama-index-llms-huggingface) (1.0.0)\n",
      "Requirement already satisfied: marshmallow<4.0.0,>=3.18.0 in f:\\descargas\\cursos\\vsc_proyectos\\envs\\comision_22819\\lib\\site-packages (from dataclasses-json->llama-index-core<0.11.0,>=0.10.1->llama-index-llms-huggingface) (3.21.2)\n",
      "Requirement already satisfied: MarkupSafe>=2.0 in f:\\descargas\\cursos\\vsc_proyectos\\envs\\comision_22819\\lib\\site-packages (from jinja2->torch<3.0.0,>=2.1.2->llama-index-llms-huggingface) (2.1.2)\n",
      "Requirement already satisfied: python-dateutil>=2.8.2 in f:\\descargas\\cursos\\vsc_proyectos\\envs\\comision_22819\\lib\\site-packages (from pandas->llama-index-core<0.11.0,>=0.10.1->llama-index-llms-huggingface) (2.9.0.post0)\n",
      "Requirement already satisfied: pytz>=2020.1 in f:\\descargas\\cursos\\vsc_proyectos\\envs\\comision_22819\\lib\\site-packages (from pandas->llama-index-core<0.11.0,>=0.10.1->llama-index-llms-huggingface) (2022.7)\n",
      "Requirement already satisfied: tzdata>=2022.7 in f:\\descargas\\cursos\\vsc_proyectos\\envs\\comision_22819\\lib\\site-packages (from pandas->llama-index-core<0.11.0,>=0.10.1->llama-index-llms-huggingface) (2022.7)\n",
      "Requirement already satisfied: mpmath>=0.19 in f:\\descargas\\cursos\\vsc_proyectos\\envs\\comision_22819\\lib\\site-packages (from sympy->torch<3.0.0,>=2.1.2->llama-index-llms-huggingface) (1.3.0)\n",
      "Requirement already satisfied: six>=1.5 in f:\\descargas\\cursos\\vsc_proyectos\\envs\\comision_22819\\lib\\site-packages (from python-dateutil>=2.8.2->pandas->llama-index-core<0.11.0,>=0.10.1->llama-index-llms-huggingface) (1.16.0)\n"
     ]
    },
    {
     "name": "stderr",
     "output_type": "stream",
     "text": [
      "\n",
      "[notice] A new release of pip available: 22.3.1 -> 24.0\n",
      "[notice] To update, run: python.exe -m pip install --upgrade pip\n"
     ]
    },
    {
     "name": "stdout",
     "output_type": "stream",
     "text": [
      "Requirement already satisfied: llama-index-embeddings-huggingface in f:\\descargas\\cursos\\vsc_proyectos\\envs\\comision_22819\\lib\\site-packages (0.2.0)\n",
      "Requirement already satisfied: huggingface-hub[inference]>=0.19.0 in f:\\descargas\\cursos\\vsc_proyectos\\envs\\comision_22819\\lib\\site-packages (from llama-index-embeddings-huggingface) (0.23.0)\n",
      "Requirement already satisfied: llama-index-core<0.11.0,>=0.10.1 in f:\\descargas\\cursos\\vsc_proyectos\\envs\\comision_22819\\lib\\site-packages (from llama-index-embeddings-huggingface) (0.10.36)\n",
      "Requirement already satisfied: sentence-transformers<3.0.0,>=2.6.1 in f:\\descargas\\cursos\\vsc_proyectos\\envs\\comision_22819\\lib\\site-packages (from llama-index-embeddings-huggingface) (2.7.0)\n",
      "Requirement already satisfied: filelock in f:\\descargas\\cursos\\vsc_proyectos\\envs\\comision_22819\\lib\\site-packages (from huggingface-hub[inference]>=0.19.0->llama-index-embeddings-huggingface) (3.14.0)\n",
      "Requirement already satisfied: fsspec>=2023.5.0 in f:\\descargas\\cursos\\vsc_proyectos\\envs\\comision_22819\\lib\\site-packages (from huggingface-hub[inference]>=0.19.0->llama-index-embeddings-huggingface) (2024.3.1)\n",
      "Requirement already satisfied: packaging>=20.9 in f:\\descargas\\cursos\\vsc_proyectos\\envs\\comision_22819\\lib\\site-packages (from huggingface-hub[inference]>=0.19.0->llama-index-embeddings-huggingface) (24.0)\n",
      "Requirement already satisfied: pyyaml>=5.1 in f:\\descargas\\cursos\\vsc_proyectos\\envs\\comision_22819\\lib\\site-packages (from huggingface-hub[inference]>=0.19.0->llama-index-embeddings-huggingface) (6.0.1)\n",
      "Requirement already satisfied: requests in f:\\descargas\\cursos\\vsc_proyectos\\envs\\comision_22819\\lib\\site-packages (from huggingface-hub[inference]>=0.19.0->llama-index-embeddings-huggingface) (2.31.0)\n",
      "Requirement already satisfied: tqdm>=4.42.1 in f:\\descargas\\cursos\\vsc_proyectos\\envs\\comision_22819\\lib\\site-packages (from huggingface-hub[inference]>=0.19.0->llama-index-embeddings-huggingface) (4.66.4)\n",
      "Requirement already satisfied: typing-extensions>=3.7.4.3 in f:\\descargas\\cursos\\vsc_proyectos\\envs\\comision_22819\\lib\\site-packages (from huggingface-hub[inference]>=0.19.0->llama-index-embeddings-huggingface) (4.11.0)\n",
      "Requirement already satisfied: aiohttp in f:\\descargas\\cursos\\vsc_proyectos\\envs\\comision_22819\\lib\\site-packages (from huggingface-hub[inference]>=0.19.0->llama-index-embeddings-huggingface) (3.9.5)\n",
      "Requirement already satisfied: minijinja>=1.0 in f:\\descargas\\cursos\\vsc_proyectos\\envs\\comision_22819\\lib\\site-packages (from huggingface-hub[inference]>=0.19.0->llama-index-embeddings-huggingface) (2.0.1)\n",
      "Requirement already satisfied: SQLAlchemy[asyncio]>=1.4.49 in f:\\descargas\\cursos\\vsc_proyectos\\envs\\comision_22819\\lib\\site-packages (from llama-index-core<0.11.0,>=0.10.1->llama-index-embeddings-huggingface) (2.0.30)\n",
      "Requirement already satisfied: dataclasses-json in f:\\descargas\\cursos\\vsc_proyectos\\envs\\comision_22819\\lib\\site-packages (from llama-index-core<0.11.0,>=0.10.1->llama-index-embeddings-huggingface) (0.6.6)\n",
      "Requirement already satisfied: deprecated>=1.2.9.3 in f:\\descargas\\cursos\\vsc_proyectos\\envs\\comision_22819\\lib\\site-packages (from llama-index-core<0.11.0,>=0.10.1->llama-index-embeddings-huggingface) (1.2.14)\n",
      "Requirement already satisfied: dirtyjson<2.0.0,>=1.0.8 in f:\\descargas\\cursos\\vsc_proyectos\\envs\\comision_22819\\lib\\site-packages (from llama-index-core<0.11.0,>=0.10.1->llama-index-embeddings-huggingface) (1.0.8)\n",
      "Requirement already satisfied: httpx in f:\\descargas\\cursos\\vsc_proyectos\\envs\\comision_22819\\lib\\site-packages (from llama-index-core<0.11.0,>=0.10.1->llama-index-embeddings-huggingface) (0.27.0)\n",
      "Requirement already satisfied: llamaindex-py-client<0.2.0,>=0.1.18 in f:\\descargas\\cursos\\vsc_proyectos\\envs\\comision_22819\\lib\\site-packages (from llama-index-core<0.11.0,>=0.10.1->llama-index-embeddings-huggingface) (0.1.19)\n",
      "Requirement already satisfied: nest-asyncio<2.0.0,>=1.5.8 in f:\\descargas\\cursos\\vsc_proyectos\\envs\\comision_22819\\lib\\site-packages (from llama-index-core<0.11.0,>=0.10.1->llama-index-embeddings-huggingface) (1.6.0)\n",
      "Requirement already satisfied: networkx>=3.0 in f:\\descargas\\cursos\\vsc_proyectos\\envs\\comision_22819\\lib\\site-packages (from llama-index-core<0.11.0,>=0.10.1->llama-index-embeddings-huggingface) (3.3)\n",
      "Requirement already satisfied: nltk<4.0.0,>=3.8.1 in f:\\descargas\\cursos\\vsc_proyectos\\envs\\comision_22819\\lib\\site-packages (from llama-index-core<0.11.0,>=0.10.1->llama-index-embeddings-huggingface) (3.8.1)\n",
      "Requirement already satisfied: numpy in f:\\descargas\\cursos\\vsc_proyectos\\envs\\comision_22819\\lib\\site-packages (from llama-index-core<0.11.0,>=0.10.1->llama-index-embeddings-huggingface) (1.26.4)\n",
      "Requirement already satisfied: openai>=1.1.0 in f:\\descargas\\cursos\\vsc_proyectos\\envs\\comision_22819\\lib\\site-packages (from llama-index-core<0.11.0,>=0.10.1->llama-index-embeddings-huggingface) (1.28.1)\n",
      "Requirement already satisfied: pandas in f:\\descargas\\cursos\\vsc_proyectos\\envs\\comision_22819\\lib\\site-packages (from llama-index-core<0.11.0,>=0.10.1->llama-index-embeddings-huggingface) (2.2.2)\n",
      "Requirement already satisfied: pillow>=9.0.0 in f:\\descargas\\cursos\\vsc_proyectos\\envs\\comision_22819\\lib\\site-packages (from llama-index-core<0.11.0,>=0.10.1->llama-index-embeddings-huggingface) (9.3.0)\n",
      "Requirement already satisfied: tenacity<9.0.0,>=8.2.0 in f:\\descargas\\cursos\\vsc_proyectos\\envs\\comision_22819\\lib\\site-packages (from llama-index-core<0.11.0,>=0.10.1->llama-index-embeddings-huggingface) (8.3.0)\n",
      "Requirement already satisfied: tiktoken>=0.3.3 in f:\\descargas\\cursos\\vsc_proyectos\\envs\\comision_22819\\lib\\site-packages (from llama-index-core<0.11.0,>=0.10.1->llama-index-embeddings-huggingface) (0.6.0)\n",
      "Requirement already satisfied: typing-inspect>=0.8.0 in f:\\descargas\\cursos\\vsc_proyectos\\envs\\comision_22819\\lib\\site-packages (from llama-index-core<0.11.0,>=0.10.1->llama-index-embeddings-huggingface) (0.9.0)\n",
      "Requirement already satisfied: wrapt in f:\\descargas\\cursos\\vsc_proyectos\\envs\\comision_22819\\lib\\site-packages (from llama-index-core<0.11.0,>=0.10.1->llama-index-embeddings-huggingface) (1.16.0)\n",
      "Requirement already satisfied: transformers<5.0.0,>=4.34.0 in f:\\descargas\\cursos\\vsc_proyectos\\envs\\comision_22819\\lib\\site-packages (from sentence-transformers<3.0.0,>=2.6.1->llama-index-embeddings-huggingface) (4.40.2)\n",
      "Requirement already satisfied: torch>=1.11.0 in f:\\descargas\\cursos\\vsc_proyectos\\envs\\comision_22819\\lib\\site-packages (from sentence-transformers<3.0.0,>=2.6.1->llama-index-embeddings-huggingface) (2.3.0)\n",
      "Requirement already satisfied: scikit-learn in f:\\descargas\\cursos\\vsc_proyectos\\envs\\comision_22819\\lib\\site-packages (from sentence-transformers<3.0.0,>=2.6.1->llama-index-embeddings-huggingface) (1.4.2)\n",
      "Requirement already satisfied: scipy in f:\\descargas\\cursos\\vsc_proyectos\\envs\\comision_22819\\lib\\site-packages (from sentence-transformers<3.0.0,>=2.6.1->llama-index-embeddings-huggingface) (1.13.0)\n",
      "Requirement already satisfied: aiosignal>=1.1.2 in f:\\descargas\\cursos\\vsc_proyectos\\envs\\comision_22819\\lib\\site-packages (from aiohttp->huggingface-hub[inference]>=0.19.0->llama-index-embeddings-huggingface) (1.3.1)\n",
      "Requirement already satisfied: attrs>=17.3.0 in f:\\descargas\\cursos\\vsc_proyectos\\envs\\comision_22819\\lib\\site-packages (from aiohttp->huggingface-hub[inference]>=0.19.0->llama-index-embeddings-huggingface) (23.2.0)\n",
      "Requirement already satisfied: frozenlist>=1.1.1 in f:\\descargas\\cursos\\vsc_proyectos\\envs\\comision_22819\\lib\\site-packages (from aiohttp->huggingface-hub[inference]>=0.19.0->llama-index-embeddings-huggingface) (1.4.1)\n",
      "Requirement already satisfied: multidict<7.0,>=4.5 in f:\\descargas\\cursos\\vsc_proyectos\\envs\\comision_22819\\lib\\site-packages (from aiohttp->huggingface-hub[inference]>=0.19.0->llama-index-embeddings-huggingface) (6.0.5)\n",
      "Requirement already satisfied: yarl<2.0,>=1.0 in f:\\descargas\\cursos\\vsc_proyectos\\envs\\comision_22819\\lib\\site-packages (from aiohttp->huggingface-hub[inference]>=0.19.0->llama-index-embeddings-huggingface) (1.9.4)\n",
      "Requirement already satisfied: pydantic>=1.10 in f:\\descargas\\cursos\\vsc_proyectos\\envs\\comision_22819\\lib\\site-packages (from llamaindex-py-client<0.2.0,>=0.1.18->llama-index-core<0.11.0,>=0.10.1->llama-index-embeddings-huggingface) (2.7.1)\n",
      "Requirement already satisfied: anyio in f:\\descargas\\cursos\\vsc_proyectos\\envs\\comision_22819\\lib\\site-packages (from httpx->llama-index-core<0.11.0,>=0.10.1->llama-index-embeddings-huggingface) (4.3.0)\n",
      "Requirement already satisfied: certifi in f:\\descargas\\cursos\\vsc_proyectos\\envs\\comision_22819\\lib\\site-packages (from httpx->llama-index-core<0.11.0,>=0.10.1->llama-index-embeddings-huggingface) (2022.12.7)\n",
      "Requirement already satisfied: httpcore==1.* in f:\\descargas\\cursos\\vsc_proyectos\\envs\\comision_22819\\lib\\site-packages (from httpx->llama-index-core<0.11.0,>=0.10.1->llama-index-embeddings-huggingface) (1.0.5)\n",
      "Requirement already satisfied: idna in f:\\descargas\\cursos\\vsc_proyectos\\envs\\comision_22819\\lib\\site-packages (from httpx->llama-index-core<0.11.0,>=0.10.1->llama-index-embeddings-huggingface) (3.4)\n",
      "Requirement already satisfied: sniffio in f:\\descargas\\cursos\\vsc_proyectos\\envs\\comision_22819\\lib\\site-packages (from httpx->llama-index-core<0.11.0,>=0.10.1->llama-index-embeddings-huggingface) (1.3.1)\n",
      "Requirement already satisfied: h11<0.15,>=0.13 in f:\\descargas\\cursos\\vsc_proyectos\\envs\\comision_22819\\lib\\site-packages (from httpcore==1.*->httpx->llama-index-core<0.11.0,>=0.10.1->llama-index-embeddings-huggingface) (0.14.0)\n",
      "Requirement already satisfied: click in f:\\descargas\\cursos\\vsc_proyectos\\envs\\comision_22819\\lib\\site-packages (from nltk<4.0.0,>=3.8.1->llama-index-core<0.11.0,>=0.10.1->llama-index-embeddings-huggingface) (8.1.7)\n",
      "Requirement already satisfied: joblib in f:\\descargas\\cursos\\vsc_proyectos\\envs\\comision_22819\\lib\\site-packages (from nltk<4.0.0,>=3.8.1->llama-index-core<0.11.0,>=0.10.1->llama-index-embeddings-huggingface) (1.4.2)\n",
      "Requirement already satisfied: regex>=2021.8.3 in f:\\descargas\\cursos\\vsc_proyectos\\envs\\comision_22819\\lib\\site-packages (from nltk<4.0.0,>=3.8.1->llama-index-core<0.11.0,>=0.10.1->llama-index-embeddings-huggingface) (2024.5.10)\n",
      "Requirement already satisfied: distro<2,>=1.7.0 in f:\\descargas\\cursos\\vsc_proyectos\\envs\\comision_22819\\lib\\site-packages (from openai>=1.1.0->llama-index-core<0.11.0,>=0.10.1->llama-index-embeddings-huggingface) (1.9.0)\n",
      "Requirement already satisfied: charset-normalizer<4,>=2 in f:\\descargas\\cursos\\vsc_proyectos\\envs\\comision_22819\\lib\\site-packages (from requests->huggingface-hub[inference]>=0.19.0->llama-index-embeddings-huggingface) (3.3.2)\n",
      "Requirement already satisfied: urllib3<3,>=1.21.1 in f:\\descargas\\cursos\\vsc_proyectos\\envs\\comision_22819\\lib\\site-packages (from requests->huggingface-hub[inference]>=0.19.0->llama-index-embeddings-huggingface) (1.26.14)\n",
      "Requirement already satisfied: greenlet!=0.4.17 in f:\\descargas\\cursos\\vsc_proyectos\\envs\\comision_22819\\lib\\site-packages (from SQLAlchemy[asyncio]>=1.4.49->llama-index-core<0.11.0,>=0.10.1->llama-index-embeddings-huggingface) (3.0.3)\n",
      "Requirement already satisfied: sympy in f:\\descargas\\cursos\\vsc_proyectos\\envs\\comision_22819\\lib\\site-packages (from torch>=1.11.0->sentence-transformers<3.0.0,>=2.6.1->llama-index-embeddings-huggingface) (1.12)\n",
      "Requirement already satisfied: jinja2 in f:\\descargas\\cursos\\vsc_proyectos\\envs\\comision_22819\\lib\\site-packages (from torch>=1.11.0->sentence-transformers<3.0.0,>=2.6.1->llama-index-embeddings-huggingface) (3.1.2)\n",
      "Requirement already satisfied: mkl<=2021.4.0,>=2021.1.1 in f:\\descargas\\cursos\\vsc_proyectos\\envs\\comision_22819\\lib\\site-packages (from torch>=1.11.0->sentence-transformers<3.0.0,>=2.6.1->llama-index-embeddings-huggingface) (2021.4.0)\n",
      "Requirement already satisfied: colorama in f:\\descargas\\cursos\\vsc_proyectos\\envs\\comision_22819\\lib\\site-packages (from tqdm>=4.42.1->huggingface-hub[inference]>=0.19.0->llama-index-embeddings-huggingface) (0.4.6)\n",
      "Requirement already satisfied: tokenizers<0.20,>=0.19 in f:\\descargas\\cursos\\vsc_proyectos\\envs\\comision_22819\\lib\\site-packages (from transformers<5.0.0,>=4.34.0->sentence-transformers<3.0.0,>=2.6.1->llama-index-embeddings-huggingface) (0.19.1)\n",
      "Requirement already satisfied: safetensors>=0.4.1 in f:\\descargas\\cursos\\vsc_proyectos\\envs\\comision_22819\\lib\\site-packages (from transformers<5.0.0,>=4.34.0->sentence-transformers<3.0.0,>=2.6.1->llama-index-embeddings-huggingface) (0.4.3)\n",
      "Requirement already satisfied: mypy-extensions>=0.3.0 in f:\\descargas\\cursos\\vsc_proyectos\\envs\\comision_22819\\lib\\site-packages (from typing-inspect>=0.8.0->llama-index-core<0.11.0,>=0.10.1->llama-index-embeddings-huggingface) (1.0.0)\n",
      "Requirement already satisfied: marshmallow<4.0.0,>=3.18.0 in f:\\descargas\\cursos\\vsc_proyectos\\envs\\comision_22819\\lib\\site-packages (from dataclasses-json->llama-index-core<0.11.0,>=0.10.1->llama-index-embeddings-huggingface) (3.21.2)\n",
      "Requirement already satisfied: python-dateutil>=2.8.2 in f:\\descargas\\cursos\\vsc_proyectos\\envs\\comision_22819\\lib\\site-packages (from pandas->llama-index-core<0.11.0,>=0.10.1->llama-index-embeddings-huggingface) (2.9.0.post0)\n",
      "Requirement already satisfied: pytz>=2020.1 in f:\\descargas\\cursos\\vsc_proyectos\\envs\\comision_22819\\lib\\site-packages (from pandas->llama-index-core<0.11.0,>=0.10.1->llama-index-embeddings-huggingface) (2022.7)\n",
      "Requirement already satisfied: tzdata>=2022.7 in f:\\descargas\\cursos\\vsc_proyectos\\envs\\comision_22819\\lib\\site-packages (from pandas->llama-index-core<0.11.0,>=0.10.1->llama-index-embeddings-huggingface) (2022.7)\n",
      "Requirement already satisfied: threadpoolctl>=2.0.0 in f:\\descargas\\cursos\\vsc_proyectos\\envs\\comision_22819\\lib\\site-packages (from scikit-learn->sentence-transformers<3.0.0,>=2.6.1->llama-index-embeddings-huggingface) (3.5.0)\n",
      "Requirement already satisfied: intel-openmp==2021.* in f:\\descargas\\cursos\\vsc_proyectos\\envs\\comision_22819\\lib\\site-packages (from mkl<=2021.4.0,>=2021.1.1->torch>=1.11.0->sentence-transformers<3.0.0,>=2.6.1->llama-index-embeddings-huggingface) (2021.4.0)\n",
      "Requirement already satisfied: tbb==2021.* in f:\\descargas\\cursos\\vsc_proyectos\\envs\\comision_22819\\lib\\site-packages (from mkl<=2021.4.0,>=2021.1.1->torch>=1.11.0->sentence-transformers<3.0.0,>=2.6.1->llama-index-embeddings-huggingface) (2021.12.0)\n",
      "Requirement already satisfied: annotated-types>=0.4.0 in f:\\descargas\\cursos\\vsc_proyectos\\envs\\comision_22819\\lib\\site-packages (from pydantic>=1.10->llamaindex-py-client<0.2.0,>=0.1.18->llama-index-core<0.11.0,>=0.10.1->llama-index-embeddings-huggingface) (0.6.0)\n",
      "Requirement already satisfied: pydantic-core==2.18.2 in f:\\descargas\\cursos\\vsc_proyectos\\envs\\comision_22819\\lib\\site-packages (from pydantic>=1.10->llamaindex-py-client<0.2.0,>=0.1.18->llama-index-core<0.11.0,>=0.10.1->llama-index-embeddings-huggingface) (2.18.2)\n",
      "Requirement already satisfied: six>=1.5 in f:\\descargas\\cursos\\vsc_proyectos\\envs\\comision_22819\\lib\\site-packages (from python-dateutil>=2.8.2->pandas->llama-index-core<0.11.0,>=0.10.1->llama-index-embeddings-huggingface) (1.16.0)\n",
      "Requirement already satisfied: MarkupSafe>=2.0 in f:\\descargas\\cursos\\vsc_proyectos\\envs\\comision_22819\\lib\\site-packages (from jinja2->torch>=1.11.0->sentence-transformers<3.0.0,>=2.6.1->llama-index-embeddings-huggingface) (2.1.2)\n",
      "Requirement already satisfied: mpmath>=0.19 in f:\\descargas\\cursos\\vsc_proyectos\\envs\\comision_22819\\lib\\site-packages (from sympy->torch>=1.11.0->sentence-transformers<3.0.0,>=2.6.1->llama-index-embeddings-huggingface) (1.3.0)\n"
     ]
    },
    {
     "name": "stderr",
     "output_type": "stream",
     "text": [
      "\n",
      "[notice] A new release of pip available: 22.3.1 -> 24.0\n",
      "[notice] To update, run: python.exe -m pip install --upgrade pip\n"
     ]
    }
   ],
   "source": [
    "# If you face issues running the code cell below, uncomment the 2 lines below and run this code cell to install some libraries\n",
    "\n",
    "!pip install llama-index-llms-huggingface\n",
    "!pip install llama-index-embeddings-huggingface"
   ]
  },
  {
   "cell_type": "code",
   "execution_count": null,
   "metadata": {},
   "outputs": [
    {
     "name": "stderr",
     "output_type": "stream",
     "text": [
      "f:\\Descargas\\Cursos\\VSC_PROYECTOS\\Envs\\comision_22819\\Lib\\site-packages\\huggingface_hub\\file_download.py:1132: FutureWarning: `resume_download` is deprecated and will be removed in version 1.0.0. Downloads always resume when possible. If you want to force a new download, use `force_download=True`.\n",
      "  warnings.warn(\n",
      "f:\\Descargas\\Cursos\\VSC_PROYECTOS\\Envs\\comision_22819\\Lib\\site-packages\\huggingface_hub\\file_download.py:1132: FutureWarning: `resume_download` is deprecated and will be removed in version 1.0.0. Downloads always resume when possible. If you want to force a new download, use `force_download=True`.\n",
      "  warnings.warn(\n"
     ]
    },
    {
     "ename": "",
     "evalue": "",
     "output_type": "error",
     "traceback": [
      "\u001b[1;31mThe Kernel crashed while executing code in the current cell or a previous cell. \n",
      "\u001b[1;31mPlease review the code in the cell(s) to identify a possible cause of the failure. \n",
      "\u001b[1;31mClick <a href='https://aka.ms/vscodeJupyterKernelCrash'>here</a> for more info. \n",
      "\u001b[1;31mView Jupyter <a href='command:jupyter.viewOutput'>log</a> for further details."
     ]
    }
   ],
   "source": [
    "import os\n",
    "# Optional, but set llamaindex cache dir to ../cache dir here. Default is system tmp\n",
    "# This way, we can easily see downloaded artifacts\n",
    "os.environ['LLAMA_INDEX_CACHE_DIR'] = os.path.join(os.path.abspath('../'), 'cache')\n",
    "\n",
    "# from llama_index.embeddings import HuggingFaceEmbedding\n",
    "# Uncomment the line above and comment the line below if you face an import error\n",
    "from llama_index.embeddings.huggingface import HuggingFaceEmbedding\n",
    "\n",
    "embed_model = HuggingFaceEmbedding(model_name=\"BAAI/bge-small-en-v1.5\")\n",
    "embeddings = embed_model.get_text_embedding(\"Hello World!\")\n",
    "\n",
    "print(len(embeddings))\n",
    "print(embeddings[:5])"
   ]
  },
  {
   "cell_type": "markdown",
   "metadata": {},
   "source": [
    "Awesome! As you can see from the output above, we managed to download the `BAAI/bge-small-en-v1.5` model from Hugging Face by using Llama-Index and using the downloaded model to get the vector representation of the string \"Hello World!\"."
   ]
  },
  {
   "cell_type": "markdown",
   "metadata": {
    "jp-MarkdownHeadingCollapsed": true
   },
   "source": [
    "### Let's Try a Few Embedding Models\n",
    "As mentioned earlier in the quest, Hugging Face has many different models available for us to choose from. In this quest, we'll be using the following three models:\n",
    "\n",
    "| model name                              | overall score | model params | model size | embedding length | url                                                            |\n",
    "|-----------------------------------------|---------------|--------------|------------|------------------|----------------------------------------------------------------|\n",
    "| BAAI/bge-small-en-v1.5                  | 62.x          | 33.5 M       | 133 MB     | 384              | https://huggingface.co/BAAI/bge-small-en-v1.5                  |\n",
    "| sentence-transformers/all-mpnet-base-v2 | 57.8          |              | 438 MB     | 768              | https://huggingface.co/sentence-transformers/all-mpnet-base-v2 |\n",
    "| sentence-transformers/all-MiniLM-L6-v2  | 56.x          |              | 91 MB      | 384              | https://huggingface.co/sentence-transformers/all-MiniLM-L6-v2  |\n",
    "\n",
    "If you would like to, you can also download other models provided by [Hugging Face](https://huggingface.co/spaces/mteb/leaderboard) and compare the results you get from running them!"
   ]
  },
  {
   "cell_type": "markdown",
   "metadata": {},
   "source": [
    "### Benchmark\n",
    "What we're doing in the code cell below is running a benchmark test on our three chosen models. Essentially, we're downloading the models into our local machines, using them to create embeddings for the string \"Hello World!\" and comparing the speed of each model when it comes to generating embeddings.\n",
    "\n",
    "Don't worry if you see the `TqdmWarning: IProgress not found` warning message, it should not affect your code from running.\n",
    "\n",
    "After running the code cell below, if you look in the `cache` folder of the root directory of your project, you should be able to see that you've downloaded these three embedding models."
   ]
  },
  {
   "cell_type": "code",
   "execution_count": 1,
   "metadata": {},
   "outputs": [
    {
     "ename": "NameError",
     "evalue": "name 'HuggingFaceEmbedding' is not defined",
     "output_type": "error",
     "traceback": [
      "\u001b[1;31m---------------------------------------------------------------------------\u001b[0m",
      "\u001b[1;31mNameError\u001b[0m                                 Traceback (most recent call last)",
      "Cell \u001b[1;32mIn[1], line 11\u001b[0m\n\u001b[0;32m      4\u001b[0m embedding_models \u001b[38;5;241m=\u001b[39m [\n\u001b[0;32m      5\u001b[0m     \u001b[38;5;124m'\u001b[39m\u001b[38;5;124mBAAI/bge-small-en-v1.5\u001b[39m\u001b[38;5;124m'\u001b[39m,\n\u001b[0;32m      6\u001b[0m     \u001b[38;5;124m'\u001b[39m\u001b[38;5;124msentence-transformers/all-mpnet-base-v2\u001b[39m\u001b[38;5;124m'\u001b[39m,\n\u001b[0;32m      7\u001b[0m     \u001b[38;5;124m'\u001b[39m\u001b[38;5;124msentence-transformers/all-MiniLM-L6-v2\u001b[39m\u001b[38;5;124m'\u001b[39m,\n\u001b[0;32m      8\u001b[0m ]\n\u001b[0;32m     10\u001b[0m \u001b[38;5;28;01mfor\u001b[39;00m model \u001b[38;5;129;01min\u001b[39;00m embedding_models:\n\u001b[1;32m---> 11\u001b[0m     embed_model \u001b[38;5;241m=\u001b[39m \u001b[43mHuggingFaceEmbedding\u001b[49m(model_name\u001b[38;5;241m=\u001b[39mmodel)\n\u001b[0;32m     12\u001b[0m     embeddings \u001b[38;5;241m=\u001b[39m embed_model\u001b[38;5;241m.\u001b[39mget_text_embedding(\u001b[38;5;124m\"\u001b[39m\u001b[38;5;124mHello World!\u001b[39m\u001b[38;5;124m\"\u001b[39m)\n\u001b[0;32m     13\u001b[0m     \u001b[38;5;28mprint\u001b[39m(\u001b[38;5;124mf\u001b[39m\u001b[38;5;124m'\u001b[39m\u001b[38;5;124mmodel=\u001b[39m\u001b[38;5;132;01m{\u001b[39;00mmodel\u001b[38;5;132;01m}\u001b[39;00m\u001b[38;5;124m, embeding_length=\u001b[39m\u001b[38;5;132;01m{\u001b[39;00m\u001b[38;5;28mlen\u001b[39m(embeddings)\u001b[38;5;132;01m:\u001b[39;00m\u001b[38;5;124m,\u001b[39m\u001b[38;5;132;01m}\u001b[39;00m\u001b[38;5;124m'\u001b[39m)\n",
      "\u001b[1;31mNameError\u001b[0m: name 'HuggingFaceEmbedding' is not defined"
     ]
    }
   ],
   "source": [
    "import time\n",
    "import timeit\n",
    "\n",
    "embedding_models = [\n",
    "    'BAAI/bge-small-en-v1.5',\n",
    "    'sentence-transformers/all-mpnet-base-v2',\n",
    "    'sentence-transformers/all-MiniLM-L6-v2',\n",
    "]\n",
    "\n",
    "for model in embedding_models:\n",
    "    embed_model = HuggingFaceEmbedding(model_name=model)\n",
    "    embeddings = embed_model.get_text_embedding(\"Hello World!\")\n",
    "    print(f'model={model}, embeding_length={len(embeddings):,}')\n",
    "    %timeit (embed_model.get_text_embedding(\"Hello World!\"))\n",
    "    print()"
   ]
  },
  {
   "cell_type": "markdown",
   "metadata": {},
   "source": [
    "## [OPTIONAL] Using SentenceTransformers\n",
    "Note that besides using Llama-Index, you can also use other providers like SentenceTransformers to download embedding models; the code cell below demonstrates this."
   ]
  },
  {
   "cell_type": "code",
   "execution_count": null,
   "metadata": {},
   "outputs": [
    {
     "name": "stderr",
     "output_type": "stream",
     "text": [
      "huggingface/tokenizers: The current process just got forked, after parallelism has already been used. Disabling parallelism to avoid deadlocks...\n",
      "To disable this warning, you can either:\n",
      "\t- Avoid using `tokenizers` before the fork if possible\n",
      "\t- Explicitly set the environment variable TOKENIZERS_PARALLELISM=(true | false)\n",
      ".gitattributes: 100%|██████████████████████████████████████████████████████████████████████████████| 1.18k/1.18k [00:00<00:00, 3.29MB/s]\n",
      "1_Pooling/config.json: 100%|████████████████████████████████████████████████████████████████████████████| 190/190 [00:00<00:00, 626kB/s]\n",
      "README.md: 100%|███████████████████████████████████████████████████████████████████████████████████| 10.6k/10.6k [00:00<00:00, 11.7MB/s]\n",
      "config.json: 100%|█████████████████████████████████████████████████████████████████████████████████████| 612/612 [00:00<00:00, 1.96MB/s]\n",
      "config_sentence_transformers.json: 100%|████████████████████████████████████████████████████████████████| 116/116 [00:00<00:00, 425kB/s]\n",
      "data_config.json: 100%|████████████████████████████████████████████████████████████████████████████| 39.3k/39.3k [00:00<00:00, 19.6MB/s]\n",
      "pytorch_model.bin: 100%|███████████████████████████████████████████████████████████████████████████| 90.9M/90.9M [00:06<00:00, 14.2MB/s]\n",
      "sentence_bert_config.json: 100%|██████████████████████████████████████████████████████████████████████| 53.0/53.0 [00:00<00:00, 196kB/s]\n",
      "special_tokens_map.json: 100%|██████████████████████████████████████████████████████████████████████████| 112/112 [00:00<00:00, 156kB/s]\n",
      "tokenizer.json: 100%|████████████████████████████████████████████████████████████████████████████████| 466k/466k [00:00<00:00, 8.53MB/s]\n",
      "tokenizer_config.json: 100%|████████████████████████████████████████████████████████████████████████████| 350/350 [00:00<00:00, 503kB/s]\n",
      "train_script.py: 100%|█████████████████████████████████████████████████████████████████████████████| 13.2k/13.2k [00:00<00:00, 20.3MB/s]\n",
      "vocab.txt: 100%|██████████████████████████████████████████████████████████████████████████████████████| 232k/232k [00:00<00:00, 457kB/s]\n",
      "modules.json: 100%|█████████████████████████████████████████████████████████████████████████████████████| 349/349 [00:00<00:00, 758kB/s]"
     ]
    },
    {
     "name": "stdout",
     "output_type": "stream",
     "text": [
      "SentenceTransformer(\n",
      "  (0): Transformer({'max_seq_length': 256, 'do_lower_case': False}) with Transformer model: BertModel \n",
      "  (1): Pooling({'word_embedding_dimension': 384, 'pooling_mode_cls_token': False, 'pooling_mode_mean_tokens': True, 'pooling_mode_max_tokens': False, 'pooling_mode_mean_sqrt_len_tokens': False})\n",
      "  (2): Normalize()\n",
      ")\n",
      "384\n",
      "[-0.00542394  0.07206918 -0.02727438  0.04371348 -0.06957784]\n"
     ]
    },
    {
     "name": "stderr",
     "output_type": "stream",
     "text": [
      "\n"
     ]
    }
   ],
   "source": [
    "from sentence_transformers import SentenceTransformer\n",
    "# sentences = [\"This is an example sentence\", \"Each sentence is converted\"]\n",
    "\n",
    "model = SentenceTransformer('sentence-transformers/all-MiniLM-L6-v2')\n",
    "# embeddings = model.encode(sentences)\n",
    "embeddings = model.encode('a happy dog!')\n",
    "print(model)\n",
    "print (len(embeddings))\n",
    "print(embeddings[:5])"
   ]
  },
  {
   "cell_type": "markdown",
   "metadata": {},
   "source": [
    "And we're done with this notebook! Please **head back to the Quest page on StackUp now**."
   ]
  }
 ],
 "metadata": {
  "kernelspec": {
   "display_name": "Python 3",
   "language": "python",
   "name": "python3"
  },
  "language_info": {
   "codemirror_mode": {
    "name": "ipython",
    "version": 3
   },
   "file_extension": ".py",
   "mimetype": "text/x-python",
   "name": "python",
   "nbconvert_exporter": "python",
   "pygments_lexer": "ipython3",
   "version": "3.11.5"
  }
 },
 "nbformat": 4,
 "nbformat_minor": 4
}
