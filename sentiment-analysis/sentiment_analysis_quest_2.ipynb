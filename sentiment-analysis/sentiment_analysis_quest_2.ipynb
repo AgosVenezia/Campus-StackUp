{
 "cells": [
  {
   "cell_type": "markdown",
   "id": "e55dacab-d981-4f56-a24f-839e7ccbf2a6",
   "metadata": {},
   "source": [
    "# AI/ML with Python: Web Scraping & Sentiment Analysis\n",
    "## Sentiment Analysis Tools"
   ]
  },
  {
   "cell_type": "markdown",
   "id": "90348022",
   "metadata": {},
   "source": [
    "### Step 4 - Introduction to VADER\n",
    "\n",
    "We will start off by importing `nltk` (Natural Language Toolkit) which allows us utilise its internal package `SentimentIntensityAnalyzer` that will provide us with the necessary polarity scores in terms of negative, neutral, or positive. To start, ensure that you have `ntlk` installed on your local machine. If you haven't, open your terminal and do `pip install nltk` as shown below.\n",
    "\n",
    "After importing `nltk`, ensure that you have `vader_lexicon` downloaded. Once everything is completed, we will proceed to import `SentimentIntensityAnalyzer` as a package from `nltk.sentiment`."
   ]
  },
  {
   "cell_type": "code",
   "execution_count": 5,
   "id": "4df0be40-1cf6-4fbe-a528-133e4cfa943c",
   "metadata": {},
   "outputs": [],
   "source": [
    "# pip3 install nltk or pip install nltk\n",
    "import nltk\n",
    "\n",
    "# Remember to download vader_lexicon if you havent! Simply uncomment the code below and run it \n",
    "# nltk.download('vader_lexicon')\n",
    "\n",
    "from nltk.sentiment import SentimentIntensityAnalyzer\n",
    "sia = SentimentIntensityAnalyzer()"
   ]
  },
  {
   "cell_type": "markdown",
   "id": "2ad9d197-8f82-4622-9c0a-9cd9ce87d977",
   "metadata": {},
   "source": [
    "With our setup complete, we're now equipped to analyze the sentiment of various sentences. We will utilize the `polarity_scores` method to evaluate and display their sentiment metrics. Proceed with executing the following code to observe the breakdown of sentiment scores for each sentence provided."
   ]
  },
  {
   "cell_type": "code",
   "execution_count": 16,
   "id": "da1dbfde-1c5f-43ec-a337-016a2a2c3b36",
   "metadata": {},
   "outputs": [
    {
     "name": "stdout",
     "output_type": "stream",
     "text": [
      "Text: I love this product, it's absolutely amazing!\n",
      "Scores: {'neg': 0.0, 'neu': 0.318, 'pos': 0.682, 'compound': 0.862}\n",
      "\n",
      "Text: This is the worst movie I have ever seen.\n",
      "Scores: {'neg': 0.369, 'neu': 0.631, 'pos': 0.0, 'compound': -0.6249}\n",
      "\n",
      "Text: I'm not sure how I feel about this new policy.\n",
      "Scores: {'neg': 0.197, 'neu': 0.803, 'pos': 0.0, 'compound': -0.2411}\n",
      "\n",
      "Text: Meh, it was okay, nothing special.\n",
      "Scores: {'neg': 0.421, 'neu': 0.355, 'pos': 0.225, 'compound': -0.1675}\n",
      "\n",
      "Text: Wow, this new update is fantastic! 😊\n",
      "Scores: {'neg': 0.0, 'neu': 0.342, 'pos': 0.658, 'compound': 0.8268}\n",
      "\n"
     ]
    }
   ],
   "source": [
    "# Sample texts that we will be using for sentiment analysis\n",
    "texts = [\n",
    "    \"I love this product, it's absolutely amazing!\",\n",
    "    \"This is the worst movie I have ever seen.\",\n",
    "    \"I'm not sure how I feel about this new policy.\",\n",
    "    \"Meh, it was okay, nothing special.\",\n",
    "    \"Wow, this new update is fantastic! 😊\"\n",
    "]\n",
    "\n",
    "for text in texts:\n",
    "    scores = sia.polarity_scores(text)\n",
    "    print(f\"Text: {text}\")\n",
    "    print(f\"Scores: {scores}\")\n",
    "    print()"
   ]
  },
  {
   "cell_type": "markdown",
   "id": "30ec34de-b2a5-44c3-a2ff-d99d80377c4f",
   "metadata": {},
   "source": [
    "The `polarity_scores` method from `SentimentIntensityAnalyzer` in VADER is a function that <b>computes sentiment scores</b> for a given piece of text. When you pass text to this method, it returns a dictionary with <b>four different scores</b> that quantify the sentiment of the text. The score breaks down into four different aspects, each being negative, neutral, positive and compound. Here is a breakdown of what each of them mean:\n",
    "\n",
    "<b>Negative:</b> This score indicates the proportion of the text that carries a negative sentiment. The value ranges from 0 to 1, where higher values correspond to negative sentiment.\n",
    "\n",
    "<b>Neutral:</b> This score represents the proportion of the text that is considered neutral (lacking positive or negative sentiment). Like the negative score, this also ranges from 0 to 1.\n",
    "\n",
    "<b>Positive:</b> This score reflects the proportion of the text that conveys a positive sentiment. It is also a value between 0 and 1, with higher values denoting stronger positive sentiment.\n",
    "\n",
    "<b>Compound:</b> The compound score is a composite score that calculates the sum of the positive, negative, and neutral scores, which is then normalized between -1 (most extreme negative) and +1 (most extreme positive). This score attempts to represent the overall sentiment of the text in a single number.\n",
    "\n",
    "From this example, you can see how text and sentences are quantified based on how negative or positive they are. Feel free to try it out with some of your own sentences, and see its results!"
   ]
  },
  {
   "cell_type": "markdown",
   "id": "379cfae8-b970-4ad3-aa72-1ddfa5ce07ce",
   "metadata": {},
   "source": [
    "### Step 5 - Introduction to AFINN\n",
    "\n",
    "To begin, AFINN uses a Valence Score Assignment where each word in the AFINN lexicon has been manually rated by humans for sentiment strength. For example, the word \"happy\" might have a positive valence of 3, while \"sad\" has a negative valence of -2. To calculate its sentiments,  a sentiment analysis algorithm will look up each word in the AFINN lexicon when processing the text. If the word exists in the lexicon, its valence score will contribute to the total sentiment score of the text.\n",
    "\n",
    "The total sentiment score of a piece of text is calculated by summing the valence scores of all sentiment-bearing words found in the lexicon. The sum can be normalized or adjusted based on the length of the text to provide an average sentiment score per term if desired. Before we start coding, ensure that you have afinn installed via your local terminal. Then, proceed to import 'Afinn' from afinn and assign it to afinn, as seen in the example below."
   ]
  },
  {
   "cell_type": "code",
   "execution_count": 17,
   "id": "a2619201-47f5-4601-b9c6-bfb318f3a62d",
   "metadata": {},
   "outputs": [],
   "source": [
    "# pip3 install afinn\n",
    "\n",
    "from afinn import Afinn\n",
    "\n",
    "# We initialize Afinn sentiment analyzer\n",
    "afinn = Afinn()"
   ]
  },
  {
   "cell_type": "markdown",
   "id": "960d4a86-a140-4f20-a208-692295c28bbc",
   "metadata": {},
   "source": [
    "Now, let's move on to examining a series of texts. We'll apply our analysis and you'll notice that each word is assigned a score from -5 to +5. However, the cumulative score for an entire sentence may exceed this range, as it represents the sum of the individual scores for all words contained in that sentence."
   ]
  },
  {
   "cell_type": "code",
   "execution_count": 18,
   "id": "0c322935-dc7b-4eac-9d05-eaa5ed6a467d",
   "metadata": {},
   "outputs": [
    {
     "name": "stdout",
     "output_type": "stream",
     "text": [
      "Text: I really love the new design of your website!\n",
      "Score: 3.0\n",
      "\n",
      "Text: I hate waiting in long queues.\n",
      "Score: -3.0\n",
      "\n",
      "Text: This is utterly fantastic!\n",
      "Score: 4.0\n",
      "\n",
      "Text: It's raining again. This weather is depressing.\n",
      "Score: -2.0\n",
      "\n",
      "Text: I'm not sure how I feel about the new policy.\n",
      "Score: 0.0\n",
      "\n",
      "Text: I love the absolutely wonderful performance, it was simply perfect and made me incredibly happy!\n",
      "Score: 13.0\n",
      "\n"
     ]
    }
   ],
   "source": [
    "# List of sentences to analyze\n",
    "texts = [\n",
    "    \"I really love the new design of your website!\",\n",
    "    \"I hate waiting in long queues.\",\n",
    "    \"This is utterly fantastic!\",\n",
    "    \"It's raining again. This weather is depressing.\",\n",
    "    \"I'm not sure how I feel about the new policy.\",\n",
    "    \"I love the absolutely wonderful performance, it was simply perfect and made me incredibly happy!\"\n",
    "]\n",
    "\n",
    "# Analyze the sentiment of each sentence\n",
    "for text in texts:\n",
    "    score = afinn.score(text)\n",
    "    print(f\"Text: {text}\\nScore: {score}\\n\")"
   ]
  },
  {
   "cell_type": "markdown",
   "id": "748f2cdf-d4af-47cd-8373-5b23fe8276c7",
   "metadata": {},
   "source": [
    "The <b>sentiment score</b> of a piece of text—such as a sentence or an entire document—is calculated by <b>summing the scores of all words</b> that appear in the text and are also present in the AFINN lexicon. In the case where a sentence has words not found in the AFINN lexicon, those words simply do not contribute to the score. \n",
    "\n",
    "The final score reflects the overall sentiment as quantified by the lexicon, with higher positive scores indicating more positive sentiment, scores around zero indicating neutrality, and negative scores indicating negative sentiment."
   ]
  },
  {
   "cell_type": "markdown",
   "id": "47d8729b-6d02-4bbb-8d05-05f5ae99d28a",
   "metadata": {},
   "source": [
    "## Step 7 - Sentiment Analysis with Naive Bayes Classifier\n",
    "\n",
    "The objective of this exercise will be to build a Naive Bayes model that can classify text samples into either positive or negative sentiments. In this exercise, we'll be using an inbuilt dataset \"movie_reviews\" within the `nltk` library. As usual, ensure that you have the `nltk` and `scikit-learn` libraries installed. When you are done, proceed to import the following packages: "
   ]
  },
  {
   "cell_type": "code",
   "execution_count": 19,
   "id": "e08214a6-fb20-4c24-95b2-24465861505d",
   "metadata": {},
   "outputs": [],
   "source": [
    "# pip3 install scikit-learn\n",
    "\n",
    "import nltk\n",
    "from nltk.corpus import movie_reviews\n",
    "from sklearn.model_selection import train_test_split\n",
    "from sklearn.feature_extraction.text import CountVectorizer\n",
    "from sklearn.naive_bayes import MultinomialNB\n",
    "from sklearn.metrics import accuracy_score\n",
    "import re\n",
    "import random"
   ]
  },
  {
   "cell_type": "markdown",
   "id": "47b68243-b2d2-4536-a60a-f68b3c05475a",
   "metadata": {},
   "source": [
    "Now that we have imported all the packages, we can proceed to download the <b>movie_reviews</b> dataset from the `nltk` library, which is a collection of movie reviews that have been categorized as either positive or negative. \n",
    "\n",
    "It contains 2,000 movie reviews, with an equal number of positive and negative reviews. This balanced dataset is ideal for training and testing sentiment analysis algorithms, specifically the Naive Bayes Classifiers in this case to determine whether a new movie review is positive or negative."
   ]
  },
  {
   "cell_type": "code",
   "execution_count": 34,
   "id": "f5cbb412-003f-4fc8-9448-d2ecd213c53b",
   "metadata": {},
   "outputs": [],
   "source": [
    "# Download the movie review dataset from nltk\n",
    "# nltk.download('movie_reviews')\n",
    "\n",
    "# Run the below code to load the reviews and text preprocessing the data for modeling\n",
    "documents = [(\" \".join(movie_reviews.words(fileid)), category)\n",
    "             for category in movie_reviews.categories()\n",
    "             for fileid in movie_reviews.fileids(category)]\n",
    "\n",
    "# Split the dataset into the text and labels\n",
    "texts, labels = zip(*documents)\n",
    "\n",
    "# The handle_negation function is designed to preprocess text to better handle negations when performing sentiment analysis. \n",
    "# Negation words like \"not,\" \"no,\" \"never,\" and \"cannot\" can completely change the sentiment of the phrase that follows them. \n",
    "def handle_negation(text):\n",
    "    # A simple way to handle negation: attach \"not_\" to words following a negation word\n",
    "    negation_re = re.compile(r\"\\b(not|no|never|cannot)\\b[\\s]+([a-z]+)\", re.IGNORECASE)\n",
    "    return negation_re.sub(lambda match: f\"{match.group(1)}_{match.group(2)}\", text)\n",
    "\n",
    "# Apply the negation handling to your texts\n",
    "texts = [handle_negation(text) for text in texts]\n",
    "\n",
    "# This flattens a list of lists (or a mix of lists and strings) into a list of strings, needed for text processing tasks such as vectorization\n",
    "# texts = [' '.join(text) if isinstance(text, list) else text for text in texts]"
   ]
  },
  {
   "cell_type": "markdown",
   "id": "76f3f943-1cd0-465a-98ec-b75bc14c1145",
   "metadata": {},
   "source": [
    "Like what we have covered in our past campaign: NLP with Python, the above steps simply cleans and processes the data for trainng. It separates the dataset into both texts and its associated labels (either positive or negative). \n",
    "\n",
    "With that in place, we can utilise the prelabeled data `labels` and `texts` to train our model. Our next step would be preprocessing and feature extraction, a critical step that help transform raw text data into a structured format that a machine learning model can understand and learn from. Run the following code to see it in action!"
   ]
  },
  {
   "cell_type": "code",
   "execution_count": 35,
   "id": "e9dc6449-d901-41a3-9fff-802edad1ff18",
   "metadata": {},
   "outputs": [],
   "source": [
    "# Split data into training and test sets\n",
    "train_texts, test_texts, train_labels, test_labels = train_test_split(texts, labels, test_size=0.25, random_state=42)\n",
    "\n",
    "# Initialize a CountVectorizer for text vectorization\n",
    "vectorizer = CountVectorizer(ngram_range=(1, 2))\n",
    "\n",
    "# Fit and transform the training data\n",
    "train_vectors = vectorizer.fit_transform(train_texts)\n",
    "\n",
    "# Transform the test data\n",
    "test_vectors = vectorizer.transform(test_texts)"
   ]
  },
  {
   "cell_type": "markdown",
   "id": "07876301-6571-4940-a298-2b8508299b21",
   "metadata": {},
   "source": [
    "We split the data into 2 parts: training and testing data. `train_texts` will contain the texts that will be used for training the machine learning model. `test_texts` will contain the texts that will be used for testing the model's performance, while `train_labels` and `test_labels` will hold the corresponding labels for the training and testing texts. `train_test_split()` will be the function that performs the split of the dataset into both training and test sets.\n",
    "\n",
    "The test_size signaling 0.25 suggests that 25% will be used for testing and the remaining 75% will be used for training. Setting a random seed will be used for experimental consistency, ensuring that every time we run this code with the same input data and random_state, we will get the exact same split.\n",
    "\n",
    "Initialising `CountVectorizer` creates a feature extraction method from the scikit-learn library that converts a collection of text documents into a matrix of token counts, which turns raw text into features that we can feed into the machine learning model. \n",
    "\n",
    "As covered previously, we can see the N-grams in action, where `ngram_range=(1,2)` means the first element of the tuple, 1, implies that the minimum size of n-grams will be 1, which includes single words. The second element of the tuple, 2, means that the maximum size of n-grams will be 2, which includes pairs of consecutive words.\n",
    "\n",
    "The fit method `fit_transform` then learns the vocabulary of the training data. It decides what tokens (words, symbols, etc.) will be considered in the text representation. After fitting, the vectorizer has a mapping from word tokens found in the training data to feature indices. We then proceed to `transform` the text into a numerical representation, a sparse matrix where each row corresponds to a document, and each column represents a token from the vocabulary. With the features extracted, we will proceed next to pass them into the classifiers.\n",
    "\n",
    "We will initialize the Multinomial Naive Bayes Classifier that we imported earlier and assign it as a classifier. Over here, we will then use the inbuilt fit function to train the model using both training data and labels."
   ]
  },
  {
   "cell_type": "code",
   "execution_count": 36,
   "id": "a9d500a8-9ba3-4f8f-903b-cba59219e568",
   "metadata": {},
   "outputs": [
    {
     "data": {
      "text/html": [
       "<style>#sk-container-id-5 {color: black;background-color: white;}#sk-container-id-5 pre{padding: 0;}#sk-container-id-5 div.sk-toggleable {background-color: white;}#sk-container-id-5 label.sk-toggleable__label {cursor: pointer;display: block;width: 100%;margin-bottom: 0;padding: 0.3em;box-sizing: border-box;text-align: center;}#sk-container-id-5 label.sk-toggleable__label-arrow:before {content: \"▸\";float: left;margin-right: 0.25em;color: #696969;}#sk-container-id-5 label.sk-toggleable__label-arrow:hover:before {color: black;}#sk-container-id-5 div.sk-estimator:hover label.sk-toggleable__label-arrow:before {color: black;}#sk-container-id-5 div.sk-toggleable__content {max-height: 0;max-width: 0;overflow: hidden;text-align: left;background-color: #f0f8ff;}#sk-container-id-5 div.sk-toggleable__content pre {margin: 0.2em;color: black;border-radius: 0.25em;background-color: #f0f8ff;}#sk-container-id-5 input.sk-toggleable__control:checked~div.sk-toggleable__content {max-height: 200px;max-width: 100%;overflow: auto;}#sk-container-id-5 input.sk-toggleable__control:checked~label.sk-toggleable__label-arrow:before {content: \"▾\";}#sk-container-id-5 div.sk-estimator input.sk-toggleable__control:checked~label.sk-toggleable__label {background-color: #d4ebff;}#sk-container-id-5 div.sk-label input.sk-toggleable__control:checked~label.sk-toggleable__label {background-color: #d4ebff;}#sk-container-id-5 input.sk-hidden--visually {border: 0;clip: rect(1px 1px 1px 1px);clip: rect(1px, 1px, 1px, 1px);height: 1px;margin: -1px;overflow: hidden;padding: 0;position: absolute;width: 1px;}#sk-container-id-5 div.sk-estimator {font-family: monospace;background-color: #f0f8ff;border: 1px dotted black;border-radius: 0.25em;box-sizing: border-box;margin-bottom: 0.5em;}#sk-container-id-5 div.sk-estimator:hover {background-color: #d4ebff;}#sk-container-id-5 div.sk-parallel-item::after {content: \"\";width: 100%;border-bottom: 1px solid gray;flex-grow: 1;}#sk-container-id-5 div.sk-label:hover label.sk-toggleable__label {background-color: #d4ebff;}#sk-container-id-5 div.sk-serial::before {content: \"\";position: absolute;border-left: 1px solid gray;box-sizing: border-box;top: 0;bottom: 0;left: 50%;z-index: 0;}#sk-container-id-5 div.sk-serial {display: flex;flex-direction: column;align-items: center;background-color: white;padding-right: 0.2em;padding-left: 0.2em;position: relative;}#sk-container-id-5 div.sk-item {position: relative;z-index: 1;}#sk-container-id-5 div.sk-parallel {display: flex;align-items: stretch;justify-content: center;background-color: white;position: relative;}#sk-container-id-5 div.sk-item::before, #sk-container-id-5 div.sk-parallel-item::before {content: \"\";position: absolute;border-left: 1px solid gray;box-sizing: border-box;top: 0;bottom: 0;left: 50%;z-index: -1;}#sk-container-id-5 div.sk-parallel-item {display: flex;flex-direction: column;z-index: 1;position: relative;background-color: white;}#sk-container-id-5 div.sk-parallel-item:first-child::after {align-self: flex-end;width: 50%;}#sk-container-id-5 div.sk-parallel-item:last-child::after {align-self: flex-start;width: 50%;}#sk-container-id-5 div.sk-parallel-item:only-child::after {width: 0;}#sk-container-id-5 div.sk-dashed-wrapped {border: 1px dashed gray;margin: 0 0.4em 0.5em 0.4em;box-sizing: border-box;padding-bottom: 0.4em;background-color: white;}#sk-container-id-5 div.sk-label label {font-family: monospace;font-weight: bold;display: inline-block;line-height: 1.2em;}#sk-container-id-5 div.sk-label-container {text-align: center;}#sk-container-id-5 div.sk-container {/* jupyter's `normalize.less` sets `[hidden] { display: none; }` but bootstrap.min.css set `[hidden] { display: none !important; }` so we also need the `!important` here to be able to override the default hidden behavior on the sphinx rendered scikit-learn.org. See: https://github.com/scikit-learn/scikit-learn/issues/21755 */display: inline-block !important;position: relative;}#sk-container-id-5 div.sk-text-repr-fallback {display: none;}</style><div id=\"sk-container-id-5\" class=\"sk-top-container\"><div class=\"sk-text-repr-fallback\"><pre>MultinomialNB()</pre><b>In a Jupyter environment, please rerun this cell to show the HTML representation or trust the notebook. <br />On GitHub, the HTML representation is unable to render, please try loading this page with nbviewer.org.</b></div><div class=\"sk-container\" hidden><div class=\"sk-item\"><div class=\"sk-estimator sk-toggleable\"><input class=\"sk-toggleable__control sk-hidden--visually\" id=\"sk-estimator-id-5\" type=\"checkbox\" checked><label for=\"sk-estimator-id-5\" class=\"sk-toggleable__label sk-toggleable__label-arrow\">MultinomialNB</label><div class=\"sk-toggleable__content\"><pre>MultinomialNB()</pre></div></div></div></div></div>"
      ],
      "text/plain": [
       "MultinomialNB()"
      ]
     },
     "execution_count": 36,
     "metadata": {},
     "output_type": "execute_result"
    }
   ],
   "source": [
    "# Initialize the Multinomial Naive Bayes classifier\n",
    "classifier = MultinomialNB()\n",
    "\n",
    "# Train the classifier\n",
    "classifier.fit(train_vectors, train_labels)"
   ]
  },
  {
   "cell_type": "markdown",
   "id": "f8f95799-ca8a-457f-83d4-378360f11273",
   "metadata": {},
   "source": [
    "By taking in both the `train_vector` (the matrix) and `train_labels` (label containing \"positive\", \"negative\" or \"neutral\"), the classifier learns the probability of each word given each label. This is done by counting the frequency of each word in documents with each label, and then calculating the likelihood of the word occurring in each class.\n",
    "\n",
    "Once trained, the classifier can then be used to predict the sentiment labels of new, unseen texts by calling the predict method, as you will see in the following code."
   ]
  },
  {
   "cell_type": "code",
   "execution_count": 37,
   "id": "9329f147-c9a5-42ff-a937-8525a471403d",
   "metadata": {},
   "outputs": [
    {
     "name": "stdout",
     "output_type": "stream",
     "text": [
      "Accuracy: 0.8180\n"
     ]
    }
   ],
   "source": [
    "# Predict sentiments for test data\n",
    "predictions = classifier.predict(test_vectors)\n",
    "\n",
    "# Calculate accuracy\n",
    "accuracy = accuracy_score(test_labels, predictions)\n",
    "print(f\"Accuracy: {accuracy:.4f}\")"
   ]
  },
  {
   "cell_type": "markdown",
   "id": "1daa1e92-c20e-4fe4-a699-e9ee280adbeb",
   "metadata": {},
   "source": [
    "`accuracy_score` will then calculate the accuracy of the predictions. Accuracy is a common metric for classification tasks and is defined as the proportion of true results (both true positives and true negatives) among the total number of cases examined."
   ]
  },
  {
   "cell_type": "code",
   "execution_count": 38,
   "id": "88799e82-f8e9-4008-8ed6-564a39ce1881",
   "metadata": {},
   "outputs": [
    {
     "name": "stdout",
     "output_type": "stream",
     "text": [
      "The sentiment predicted by the model is: pos\n"
     ]
    }
   ],
   "source": [
    "# Function to predict sentiment of a new review\n",
    "def predict_sentiment(new_text):\n",
    "    new_vector = vectorizer.transform([new_text])\n",
    "    pred = classifier.predict(new_vector)\n",
    "    return pred[0]\n",
    "\n",
    "# Test the function\n",
    "sample_review = \"I absolutely loved this movie, the storyline was engaging from start to finish!\"\n",
    "print(f\"The sentiment predicted by the model is: {predict_sentiment(sample_review)}\")"
   ]
  },
  {
   "cell_type": "markdown",
   "id": "b802a433-c922-4817-8bd6-9fb1c56b6902",
   "metadata": {},
   "source": [
    "Great! With our trained classifier ready, we have the capability to evaluate new reviews. The function `predict_sentiment` was crafted to convert any given text into a numerical format akin to the transformation applied to our training dataset. This numerical data is then presented to the trained classifier, which yields a sentiment prediction. From the example provided, the classifier was presented with an upbeat movie review, and it accurately returned the sentiment as positive.\n",
    "\n",
    "However, it is important to remember that no model is perfect, and there will always be some instances where predictions are incorrect.  Naive Bayes is a simple probabilistic classifier that doesn’t understand context or word order; it only looks at word frequencies. \n",
    "\n",
    "It can’t capture the meaning of phrases as a whole, which can lead to incorrect classifications at times as well. So, don't be surprised if you put in some inputs and it generates a wrong outcome. Ultimately it's trained on 2000 words (1000 pos and 1000 neg), so a much larger dataset is needed for a greater level of accuracy. Therefore, understanding and improving upon these errors is a key part of the machine-learning process."
   ]
  },
  {
   "cell_type": "markdown",
   "id": "4525344b-69d9-4271-8932-9fa9b8648565",
   "metadata": {},
   "source": [
    "### Step 8 - Sentiment Analysis with Logistic Regression\n",
    "\n",
    "Similar to the the Naive Bayes model, we will now do prediction with the Logistic Regression model using the same dataset. Unlike Naive Bayes, logistic regression incorporates a different kind of feature weighting, like TF-IDF in this case, which can improve performance by highlighting important words.\n",
    "\n",
    "We will also utilise N-grams to make the prediction more accurate. Like Naive Bayes, we initialise the `LogisticRegression()` function, and just like how we did it for Naive Bayes model, we will fit it to the model before we use it for prediction. Let's check it out below!"
   ]
  },
  {
   "cell_type": "code",
   "execution_count": 39,
   "id": "012c94bd-29b8-4d28-bd55-3ffb0323f222",
   "metadata": {},
   "outputs": [
    {
     "name": "stdout",
     "output_type": "stream",
     "text": [
      "Logistic Regression Accuracy: 0.8320\n"
     ]
    }
   ],
   "source": [
    "from sklearn.linear_model import LogisticRegression\n",
    "from sklearn.feature_extraction.text import TfidfVectorizer\n",
    "\n",
    "# Use TF-IDF Vectorization instead of simple counts\n",
    "vectorizer = TfidfVectorizer(ngram_range=(1, 3), min_df=5, max_df=0.8)\n",
    "train_vectors = vectorizer.fit_transform(train_texts)\n",
    "test_vectors = vectorizer.transform(test_texts)\n",
    "\n",
    "# Initialize the Logistic Regression classifier\n",
    "logistic_classifier = LogisticRegression()\n",
    "\n",
    "# Train the classifier on the training data and labels\n",
    "logistic_classifier.fit(train_vectors, train_labels)\n",
    "\n",
    "# Predict sentiments for test data using the trained classifier\n",
    "logistic_predictions = logistic_classifier.predict(test_vectors)\n",
    "\n",
    "# Calculate accuracy of the classifier on the test data\n",
    "logistic_accuracy = accuracy_score(test_labels, logistic_predictions)\n",
    "\n",
    "print(f\"Logistic Regression Accuracy: {logistic_accuracy:.4f}\")"
   ]
  },
  {
   "cell_type": "markdown",
   "id": "f4c3dd23-09e6-497b-9181-d5279521e6de",
   "metadata": {},
   "source": [
    "With the model trained, we go on next to make predictions with sample texts:"
   ]
  },
  {
   "cell_type": "code",
   "execution_count": 41,
   "id": "7dfc60f8-1a67-4a17-9683-4fec60c3854a",
   "metadata": {},
   "outputs": [
    {
     "name": "stdout",
     "output_type": "stream",
     "text": [
      "The sentiment predicted by the model is: pos\n"
     ]
    }
   ],
   "source": [
    "# Function to predict sentiment of a new review\n",
    "def logistic_predict_sentiment(new_text):\n",
    "    new_vector = vectorizer.transform([new_text])\n",
    "    pred = logistic_classifier.predict(new_vector)\n",
    "    return pred[0]\n",
    "\n",
    "# Test the function\n",
    "sample_review = \"The sun is shining and I'm so absolutely happy today!\"\n",
    "print(f\"The sentiment predicted by the model is: {logistic_predict_sentiment(sample_review)}\")"
   ]
  },
  {
   "cell_type": "markdown",
   "id": "90817b65-b0a2-413c-ab12-4ac43848535e",
   "metadata": {},
   "source": [
    "If you are wondering how the models decide on where the sample text is positive or negative, the code below shows what is happening under the hood. It showcases the prediction probability of the sample text."
   ]
  },
  {
   "cell_type": "code",
   "execution_count": 42,
   "id": "f181ba83-361e-4938-9d5d-abed80595bca",
   "metadata": {},
   "outputs": [
    {
     "name": "stdout",
     "output_type": "stream",
     "text": [
      "Prediction probability for the sample text:  [[0.48429751 0.51570249]]\n"
     ]
    }
   ],
   "source": [
    "# Check the prediction probability for a sample text\n",
    "sample_prob = logistic_classifier.predict_proba(vectorizer.transform([sample_review]))\n",
    "print(\"Prediction probability for the sample text: \", sample_prob)"
   ]
  },
  {
   "cell_type": "markdown",
   "id": "06edc6f4-ee60-4b12-8236-a82b5759b55a",
   "metadata": {},
   "source": [
    "The probability on the left represent negative sentiment while the right positive sentiment. The larger probability will result in whichever sentiment being reflected, as simple as that!\n",
    "\n",
    "With that, we come to the end and it's time to prepare your submission!"
   ]
  },
  {
   "cell_type": "markdown",
   "id": "e7b1e48e-858a-4789-8e1e-61da791f2948",
   "metadata": {},
   "source": [
    "### Step 9 - Let's Ace Your Submissions! Preparing Your Submission!\n",
    "\n",
    "Follow the instructions under Step 9 to complete this quest! We have provided instructions below to guide you along the way, so please refer to previous steps or check the web if you are uncertain!"
   ]
  },
  {
   "cell_type": "code",
   "execution_count": 4,
   "id": "048452e6-1887-4d23-81f8-efe502a756b9",
   "metadata": {},
   "outputs": [
    {
     "name": "stdout",
     "output_type": "stream",
     "text": [
      "The sentiment predicted by the model is: positive\n",
      "The sentiment predicted by the model is: positive\n",
      "The sentiment predicted by the model is: negative\n",
      "The sentiment predicted by the model is: negative\n",
      "The sentiment predicted by the model is: negative\n"
     ]
    }
   ],
   "source": [
    "import nltk\n",
    "from sklearn.model_selection import train_test_split\n",
    "from sklearn.feature_extraction.text import TfidfVectorizer\n",
    "from sklearn.linear_model import LogisticRegression\n",
    "\n",
    "# Download the twitter_samples dataset\n",
    "# nltk.download('twitter_samples')\n",
    "\n",
    "# Import twitter_samples dataset\n",
    "from nltk.corpus import twitter_samples\n",
    "\n",
    "# Load positive and negative tweets\n",
    "positive_tweets = twitter_samples.strings('positive_tweets.json')\n",
    "negative_tweets = twitter_samples.strings('negative_tweets.json')\n",
    "\n",
    "# Creating labelled data\n",
    "documents = []\n",
    "\n",
    "# Adding positive tweets\n",
    "for tweet in positive_tweets:\n",
    "    documents.append((tweet, \"positive\"))\n",
    "\n",
    "# Adding negative tweets\n",
    "for tweet in negative_tweets:\n",
    "    documents.append((tweet, \"negative\"))\n",
    "\n",
    "# Split the dataset into the text and labels\n",
    "texts, labels = zip(*documents)\n",
    "\n",
    "# Split data into training and test sets\n",
    "texts_train, texts_test, labels_train, labels_test = train_test_split(\n",
    "    texts, labels, test_size=0.25, random_state=42\n",
    ")\n",
    "\n",
    "# Begin text vectorization\n",
    "vectorizer = TfidfVectorizer(ngram_range=(1, 3), min_df=5, max_df=0.8)\n",
    "\n",
    "# Fit and transform the training data\n",
    "X_train = vectorizer.fit_transform(texts_train)\n",
    "\n",
    "# Transform the test data\n",
    "X_test = vectorizer.transform(texts_test)\n",
    "\n",
    "# Initialize the Logistic Regression classifier\n",
    "classifier = LogisticRegression()\n",
    "\n",
    "# Train the classifier\n",
    "classifier.fit(X_train, labels_train)\n",
    "\n",
    "# Predict sentiments for test data using the trained classifier\n",
    "def predict_sentiment(text):\n",
    "    vectorized_text = vectorizer.transform([text])\n",
    "    prediction = classifier.predict(vectorized_text)[0]\n",
    "    return prediction\n",
    "\n",
    "# Test your results with the sample tweets below\n",
    "sample_tweets = [\n",
    "    \"Absolutely loving the new update! Everything runs so smoothly and efficiently now. Great job! 👍\",\n",
    "    \"Had an amazing time at the beach today with friends. The weather was perfect! ☀️ #blessed\",\n",
    "    \"Extremely disappointed with the service at the restaurant tonight. Waited over an hour and still got the order wrong. 😡\",\n",
    "    \"Feeling really let down by the season finale. It was so rushed and left too many unanswered questions. 😞 #TVShow\",\n",
    "    \"My phone keeps crashing after the latest update. So frustrating dealing with these glitches! 😠\",\n",
    "]\n",
    "\n",
    "# Test the function\n",
    "for sentence in sample_tweets:\n",
    "    #print(f\"The sentiment predicted by the model is: {'USE FUNCTION PREDICTION FUNCTION HERE'}\")\n",
    "    predicted_sentiment = predict_sentiment(sentence)\n",
    "    #print(f\"The sentiment predicted by the model for '{sentence}' is: {predicted_sentiment}\")\n",
    "    print(f\"The sentiment predicted by the model is: {predicted_sentiment}\")"
   ]
  }
 ],
 "metadata": {
  "kernelspec": {
   "display_name": "Python 3 (ipykernel)",
   "language": "python",
   "name": "python3"
  },
  "language_info": {
   "codemirror_mode": {
    "name": "ipython",
    "version": 3
   },
   "file_extension": ".py",
   "mimetype": "text/x-python",
   "name": "python",
   "nbconvert_exporter": "python",
   "pygments_lexer": "ipython3",
   "version": "3.9.13"
  }
 },
 "nbformat": 4,
 "nbformat_minor": 5
}
